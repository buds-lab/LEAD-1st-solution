{
 "cells": [
  {
   "cell_type": "code",
   "execution_count": null,
   "metadata": {},
   "outputs": [],
   "source": [
    "import numpy as np\n",
    "import pandas as pd\n",
    "import matplotlib.pyplot as plt\n",
    "import seaborn as sb\n",
    "from tqdm import tqdm, trange\n",
    "from sklearn.model_selection import train_test_split\n",
    "from sklearn.preprocessing import LabelEncoder, StandardScaler\n",
    "from sklearn import metrics\n",
    "from xgboost import XGBClassifier\n",
    "from catboost import CatBoostClassifier\n",
    "from sklearn.ensemble import HistGradientBoostingClassifier\n",
    "\n",
    "from sklearn.linear_model import LogisticRegression\n",
    "from imblearn.over_sampling import RandomOverSampler\n",
    "\n",
    "import lightgbm as lgb\n",
    "\n",
    "import matplotlib.pyplot as plt\n",
    "import seaborn as sns\n",
    "import plotly.graph_objs as go\n",
    "import plotly\n",
    "from plotly.offline import download_plotlyjs, init_notebook_mode, plot, iplot\n",
    "import cufflinks as cf\n",
    "cf.set_config_file(offline=True)\n",
    "# Input data files are available i\n",
    "\n",
    "import datetime\n",
    "\n",
    "import warnings\n",
    "warnings.filterwarnings('ignore')"
   ]
  },
  {
   "cell_type": "code",
   "execution_count": 2,
   "metadata": {
    "execution": {
     "iopub.execute_input": "2022-08-16T05:44:09.272674Z",
     "iopub.status.busy": "2022-08-16T05:44:09.272248Z",
     "iopub.status.idle": "2022-08-16T05:44:59.933621Z",
     "shell.execute_reply": "2022-08-16T05:44:59.931651Z"
    },
    "papermill": {
     "duration": 50.675675,
     "end_time": "2022-08-16T05:44:59.939414",
     "exception": false,
     "start_time": "2022-08-16T05:44:09.263739",
     "status": "completed"
    },
    "tags": []
   },
   "outputs": [],
   "source": [
    "train_features = pd.read_pickle('train_features.pickle')\n",
    "test_features = pd.read_pickle('test_features.pickle')"
   ]
  },
  {
   "cell_type": "code",
   "execution_count": 3,
   "metadata": {
    "execution": {
     "iopub.execute_input": "2022-08-16T05:44:59.960030Z",
     "iopub.status.busy": "2022-08-16T05:44:59.958622Z",
     "iopub.status.idle": "2022-08-16T05:45:01.716438Z",
     "shell.execute_reply": "2022-08-16T05:45:01.715267Z"
    },
    "papermill": {
     "duration": 1.769835,
     "end_time": "2022-08-16T05:45:01.719342",
     "exception": false,
     "start_time": "2022-08-16T05:44:59.949507",
     "status": "completed"
    },
    "tags": []
   },
   "outputs": [],
   "source": [
    "train_features['dayofyear'] = pd.to_datetime(train_features['timestamp']).dt.dayofyear+pd.to_datetime(train_features['timestamp']).dt.hour/24\n",
    "test_features['dayofyear'] = pd.to_datetime(test_features['timestamp']).dt.dayofyear+pd.to_datetime(test_features['timestamp']).dt.hour/24"
   ]
  },
  {
   "cell_type": "code",
   "execution_count": 7,
   "metadata": {
    "execution": {
     "iopub.execute_input": "2022-08-16T05:45:01.805714Z",
     "iopub.status.busy": "2022-08-16T05:45:01.805315Z",
     "iopub.status.idle": "2022-08-16T05:45:11.052825Z",
     "shell.execute_reply": "2022-08-16T05:45:11.051429Z"
    },
    "papermill": {
     "duration": 9.259319,
     "end_time": "2022-08-16T05:45:11.056076",
     "exception": false,
     "start_time": "2022-08-16T05:45:01.796757",
     "status": "completed"
    },
    "tags": []
   },
   "outputs": [
    {
     "name": "stdout",
     "output_type": "stream",
     "text": [
      "(1712198, 180) (37296, 180)\n",
      "(149184, 180)\n"
     ]
    }
   ],
   "source": [
    "#Downsampling\n",
    "neg = train_features[train_features['anomaly'] == 0]\n",
    "pos = train_features[train_features['anomaly'] == 1]\n",
    "\n",
    "print(neg.shape, pos.shape)\n",
    "negs1 = neg.sample(n = pos.shape[0], random_state=10)\n",
    "negs2 = neg.sample(n = pos.shape[0], random_state=20)\n",
    "df_eq = pd.concat([negs1, pos, negs2, pos], axis=0)\n",
    "print(df_eq.shape)"
   ]
  },
  {
   "cell_type": "code",
   "execution_count": 10,
   "metadata": {
    "execution": {
     "iopub.execute_input": "2022-08-16T05:45:11.118994Z",
     "iopub.status.busy": "2022-08-16T05:45:11.118592Z",
     "iopub.status.idle": "2022-08-16T05:45:11.699023Z",
     "shell.execute_reply": "2022-08-16T05:45:11.697959Z"
    },
    "papermill": {
     "duration": 0.59148,
     "end_time": "2022-08-16T05:45:11.701745",
     "exception": false,
     "start_time": "2022-08-16T05:45:11.110265",
     "status": "completed"
    },
    "tags": []
   },
   "outputs": [],
   "source": [
    "list_variables = list(df_eq.drop(['anomaly',\n",
    "                                  'wind_direction',\n",
    "                                  'air_temperature_std_lag73'],axis=1).select_dtypes(include=['float','int']).columns)"
   ]
  },
  {
   "cell_type": "code",
   "execution_count": 11,
   "metadata": {
    "execution": {
     "iopub.execute_input": "2022-08-16T05:45:11.718877Z",
     "iopub.status.busy": "2022-08-16T05:45:11.717848Z",
     "iopub.status.idle": "2022-08-16T05:45:11.882873Z",
     "shell.execute_reply": "2022-08-16T05:45:11.881739Z"
    },
    "papermill": {
     "duration": 0.176837,
     "end_time": "2022-08-16T05:45:11.885909",
     "exception": false,
     "start_time": "2022-08-16T05:45:11.709072",
     "status": "completed"
    },
    "tags": []
   },
   "outputs": [],
   "source": [
    "features = df_eq.drop(['anomaly'], axis=1)\n",
    "features = features[list_variables]\n",
    "target = df_eq['anomaly']"
   ]
  },
  {
   "cell_type": "code",
   "execution_count": 12,
   "metadata": {
    "execution": {
     "iopub.execute_input": "2022-08-16T05:45:11.902426Z",
     "iopub.status.busy": "2022-08-16T05:45:11.901613Z",
     "iopub.status.idle": "2022-08-16T05:45:12.056538Z",
     "shell.execute_reply": "2022-08-16T05:45:12.055131Z"
    },
    "papermill": {
     "duration": 0.167394,
     "end_time": "2022-08-16T05:45:12.060621",
     "exception": false,
     "start_time": "2022-08-16T05:45:11.893227",
     "status": "completed"
    },
    "tags": []
   },
   "outputs": [
    {
     "name": "stdout",
     "output_type": "stream",
     "text": [
      "(119520, 169) (29664, 169)\n"
     ]
    }
   ],
   "source": [
    "#Data split for taining and validation data\n",
    "X_train = features[features['building_id']%5<4]\n",
    "X_val = features[features['building_id']%5==4]\n",
    "Y_train = target[features['building_id']%5<4]\n",
    "Y_val = target[features['building_id']%5==4]\n",
    "\n",
    "print(X_train.shape, X_val.shape)"
   ]
  },
  {
   "cell_type": "code",
   "execution_count": 13,
   "metadata": {
    "execution": {
     "iopub.execute_input": "2022-08-16T05:45:12.077921Z",
     "iopub.status.busy": "2022-08-16T05:45:12.077507Z",
     "iopub.status.idle": "2022-08-16T05:45:27.222947Z",
     "shell.execute_reply": "2022-08-16T05:45:27.221457Z"
    },
    "papermill": {
     "duration": 15.157625,
     "end_time": "2022-08-16T05:45:27.226255",
     "exception": false,
     "start_time": "2022-08-16T05:45:12.068630",
     "status": "completed"
    },
    "tags": []
   },
   "outputs": [],
   "source": [
    "#Normalization\n",
    "scaler = StandardScaler()\n",
    "X_train = scaler.fit_transform(X_train)\n",
    "X_val = scaler.transform(X_val)\n",
    "test = scaler.transform(test_features[list_variables])"
   ]
  },
  {
   "cell_type": "code",
   "execution_count": 14,
   "metadata": {
    "execution": {
     "iopub.execute_input": "2022-08-16T05:45:27.244943Z",
     "iopub.status.busy": "2022-08-16T05:45:27.244250Z",
     "iopub.status.idle": "2022-08-16T05:48:18.217663Z",
     "shell.execute_reply": "2022-08-16T05:48:18.216071Z"
    },
    "papermill": {
     "duration": 170.987274,
     "end_time": "2022-08-16T05:48:18.222380",
     "exception": false,
     "start_time": "2022-08-16T05:45:27.235106",
     "status": "completed"
    },
    "tags": []
   },
   "outputs": [
    {
     "name": "stdout",
     "output_type": "stream",
     "text": [
      "Training Accuracy :  0.9999720737697113\n",
      "Validation Accuracy :  0.9809208046345569\n"
     ]
    }
   ],
   "source": [
    "#XGBoost modeling\n",
    "xgb_model = XGBClassifier(n_estimators=100)\n",
    "xgb_model.fit(X_train, Y_train)\n",
    "\n",
    "pred_train_xgb = xgb_model.predict_proba(X_train)[:,1]\n",
    "pred_val_xgb = xgb_model.predict_proba(X_val)[:,1]\n",
    "\n",
    "score_train_xgb = metrics.roc_auc_score(Y_train, pred_train_xgb)\n",
    "score_val_xgb = metrics.roc_auc_score(Y_val, pred_val_xgb)\n",
    "\n",
    "print('Training Accuracy : ', score_train_xgb)\n",
    "print('Validation Accuracy : ', score_val_xgb)"
   ]
  },
  {
   "cell_type": "code",
   "execution_count": 15,
   "metadata": {
    "execution": {
     "iopub.execute_input": "2022-08-16T05:48:18.239392Z",
     "iopub.status.busy": "2022-08-16T05:48:18.238266Z",
     "iopub.status.idle": "2022-08-16T05:48:31.767048Z",
     "shell.execute_reply": "2022-08-16T05:48:31.765563Z"
    },
    "papermill": {
     "duration": 13.540208,
     "end_time": "2022-08-16T05:48:31.769749",
     "exception": false,
     "start_time": "2022-08-16T05:48:18.229541",
     "status": "completed"
    },
    "tags": []
   },
   "outputs": [
    {
     "name": "stdout",
     "output_type": "stream",
     "text": [
      "Training Accuracy :  0.9976287488860971\n",
      "Validation Accuracy :  0.9798740037491442\n"
     ]
    }
   ],
   "source": [
    "#HistGradientBoosting modeling\n",
    "hist_model = HistGradientBoostingClassifier()\n",
    "hist_model.fit(np.nan_to_num(X_train), Y_train)\n",
    "\n",
    "pred_train_hist = hist_model.predict_proba(np.nan_to_num(X_train))[:,1]\n",
    "pred_val_hist = hist_model.predict_proba(np.nan_to_num(X_val))[:,1]\n",
    "\n",
    "score_train_hist = metrics.roc_auc_score(Y_train, pred_train_hist)\n",
    "score_val_hist = metrics.roc_auc_score(Y_val, pred_val_hist)\n",
    "\n",
    "print('Training Accuracy : ', score_train_hist)\n",
    "print('Validation Accuracy : ', score_val_hist)"
   ]
  },
  {
   "cell_type": "code",
   "execution_count": 16,
   "metadata": {
    "execution": {
     "iopub.execute_input": "2022-08-16T05:48:31.785883Z",
     "iopub.status.busy": "2022-08-16T05:48:31.785452Z",
     "iopub.status.idle": "2022-08-16T05:49:58.963117Z",
     "shell.execute_reply": "2022-08-16T05:49:58.961882Z"
    },
    "papermill": {
     "duration": 87.196579,
     "end_time": "2022-08-16T05:49:58.973581",
     "exception": false,
     "start_time": "2022-08-16T05:48:31.777002",
     "status": "completed"
    },
    "tags": []
   },
   "outputs": [
    {
     "name": "stdout",
     "output_type": "stream",
     "text": [
      "Training Accuracy :  0.9999149459520995\n",
      "Validation Accuracy :  0.9797653181100545\n"
     ]
    }
   ],
   "source": [
    "#Catboost modeling\n",
    "cat_model = CatBoostClassifier()\n",
    "cat_model.fit(X_train, Y_train, silent=True)\n",
    "\n",
    "pred_train_cat = cat_model.predict_proba(X_train)[:,1]\n",
    "pred_val_cat = cat_model.predict_proba(X_val)[:,1]\n",
    "\n",
    "score_train_cat = metrics.roc_auc_score(Y_train, pred_train_cat)\n",
    "score_val_cat = metrics.roc_auc_score(Y_val, pred_val_cat)\n",
    "\n",
    "print('Training Accuracy : ', score_train_cat)\n",
    "print('Validation Accuracy : ', score_val_cat)"
   ]
  },
  {
   "cell_type": "code",
   "execution_count": 17,
   "metadata": {
    "execution": {
     "iopub.execute_input": "2022-08-16T05:49:58.991254Z",
     "iopub.status.busy": "2022-08-16T05:49:58.990840Z",
     "iopub.status.idle": "2022-08-16T05:50:10.606108Z",
     "shell.execute_reply": "2022-08-16T05:50:10.604879Z"
    },
    "papermill": {
     "duration": 11.627122,
     "end_time": "2022-08-16T05:50:10.608747",
     "exception": false,
     "start_time": "2022-08-16T05:49:58.981625",
     "status": "completed"
    },
    "tags": []
   },
   "outputs": [
    {
     "name": "stdout",
     "output_type": "stream",
     "text": [
      "Training Accuracy :  0.9980787846884552\n",
      "Validation Accuracy :  0.9803649297101507\n"
     ]
    }
   ],
   "source": [
    "#LightGBM modeling\n",
    "lgb_model = lgb.LGBMClassifier(n_estimators=100)\n",
    "lgb_model.fit(X_train, Y_train)\n",
    "\n",
    "pred_train_lgb = lgb_model.predict_proba(X_train)[:,1]\n",
    "pred_val_lgb = lgb_model.predict_proba(X_val)[:,1]\n",
    "\n",
    "score_train_lgb = metrics.roc_auc_score(Y_train, pred_train_lgb)\n",
    "score_val_lgb = metrics.roc_auc_score(Y_val, pred_val_lgb)\n",
    "\n",
    "print('Training Accuracy : ', score_train_lgb)\n",
    "print('Validation Accuracy : ', score_val_lgb)"
   ]
  },
  {
   "cell_type": "code",
   "execution_count": 19,
   "metadata": {
    "execution": {
     "iopub.execute_input": "2022-08-16T05:50:10.696965Z",
     "iopub.status.busy": "2022-08-16T05:50:10.695849Z",
     "iopub.status.idle": "2022-08-16T05:50:10.748048Z",
     "shell.execute_reply": "2022-08-16T05:50:10.746470Z"
    },
    "papermill": {
     "duration": 0.064185,
     "end_time": "2022-08-16T05:50:10.751148",
     "exception": false,
     "start_time": "2022-08-16T05:50:10.686963",
     "status": "completed"
    },
    "tags": []
   },
   "outputs": [
    {
     "name": "stdout",
     "output_type": "stream",
     "text": [
      "Training Accuracy :  0.9997815543603225\n",
      "Validation Accuracy :  0.9824927554297033\n"
     ]
    }
   ],
   "source": [
    "#Model ensembling\n",
    "score_train_ensemble = metrics.roc_auc_score(Y_train, (pred_train_xgb+pred_train_cat+pred_train_lgb+pred_train_hist)/4)\n",
    "score_val_ensemble = metrics.roc_auc_score(Y_val, (pred_val_xgb+pred_val_cat+pred_val_lgb+pred_val_hist)/4)\n",
    "\n",
    "print('Training Accuracy : ', score_train_ensemble)\n",
    "print('Validation Accuracy : ', score_val_ensemble)"
   ]
  },
  {
   "cell_type": "code",
   "execution_count": 23,
   "metadata": {
    "execution": {
     "iopub.execute_input": "2022-08-16T05:50:11.531538Z",
     "iopub.status.busy": "2022-08-16T05:50:11.530047Z",
     "iopub.status.idle": "2022-08-16T05:56:42.389524Z",
     "shell.execute_reply": "2022-08-16T05:56:42.387894Z"
    },
    "papermill": {
     "duration": 390.874639,
     "end_time": "2022-08-16T05:56:42.393277",
     "exception": false,
     "start_time": "2022-08-16T05:50:11.518638",
     "status": "completed"
    },
    "tags": []
   },
   "outputs": [],
   "source": [
    "lgb_model.fit(X_all, target)\n",
    "xgb_model.fit(X_all, target)\n",
    "cat_model.fit(X_all, target, silent=True)\n",
    "hist_model.fit(np.nan_to_num(X_all), target)\n",
    "\n",
    "predictions = xgb_model.predict_proba(test)[:,1]/4 + lgb_model.predict_proba(test)[:,1]/4 + cat_model.predict_proba(test)[:,1]/4 + hist_model.predict_proba(np.nan_to_num(test))[:,1]/4"
   ]
  },
  {
   "cell_type": "code",
   "execution_count": 24,
   "metadata": {
    "execution": {
     "iopub.execute_input": "2022-08-16T05:56:42.413018Z",
     "iopub.status.busy": "2022-08-16T05:56:42.412543Z",
     "iopub.status.idle": "2022-08-16T05:56:47.327279Z",
     "shell.execute_reply": "2022-08-16T05:56:47.326029Z"
    },
    "papermill": {
     "duration": 4.92722,
     "end_time": "2022-08-16T05:56:47.329917",
     "exception": false,
     "start_time": "2022-08-16T05:56:42.402697",
     "status": "completed"
    },
    "tags": []
   },
   "outputs": [
    {
     "data": {
      "text/html": [
       "<div>\n",
       "<style scoped>\n",
       "    .dataframe tbody tr th:only-of-type {\n",
       "        vertical-align: middle;\n",
       "    }\n",
       "\n",
       "    .dataframe tbody tr th {\n",
       "        vertical-align: top;\n",
       "    }\n",
       "\n",
       "    .dataframe thead th {\n",
       "        text-align: right;\n",
       "    }\n",
       "</style>\n",
       "<table border=\"1\" class=\"dataframe\">\n",
       "  <thead>\n",
       "    <tr style=\"text-align: right;\">\n",
       "      <th></th>\n",
       "      <th>row_id</th>\n",
       "      <th>anomaly</th>\n",
       "    </tr>\n",
       "  </thead>\n",
       "  <tbody>\n",
       "    <tr>\n",
       "      <th>0</th>\n",
       "      <td>0</td>\n",
       "      <td>0.0</td>\n",
       "    </tr>\n",
       "    <tr>\n",
       "      <th>1</th>\n",
       "      <td>1</td>\n",
       "      <td>0.0</td>\n",
       "    </tr>\n",
       "    <tr>\n",
       "      <th>2</th>\n",
       "      <td>2</td>\n",
       "      <td>0.0</td>\n",
       "    </tr>\n",
       "    <tr>\n",
       "      <th>3</th>\n",
       "      <td>3</td>\n",
       "      <td>0.0</td>\n",
       "    </tr>\n",
       "    <tr>\n",
       "      <th>4</th>\n",
       "      <td>4</td>\n",
       "      <td>0.0</td>\n",
       "    </tr>\n",
       "    <tr>\n",
       "      <th>...</th>\n",
       "      <td>...</td>\n",
       "      <td>...</td>\n",
       "    </tr>\n",
       "    <tr>\n",
       "      <th>1800562</th>\n",
       "      <td>1800562</td>\n",
       "      <td>0.0</td>\n",
       "    </tr>\n",
       "    <tr>\n",
       "      <th>1800563</th>\n",
       "      <td>1800563</td>\n",
       "      <td>0.0</td>\n",
       "    </tr>\n",
       "    <tr>\n",
       "      <th>1800564</th>\n",
       "      <td>1800564</td>\n",
       "      <td>0.0</td>\n",
       "    </tr>\n",
       "    <tr>\n",
       "      <th>1800565</th>\n",
       "      <td>1800565</td>\n",
       "      <td>0.0</td>\n",
       "    </tr>\n",
       "    <tr>\n",
       "      <th>1800566</th>\n",
       "      <td>1800566</td>\n",
       "      <td>0.0</td>\n",
       "    </tr>\n",
       "  </tbody>\n",
       "</table>\n",
       "<p>1800567 rows × 2 columns</p>\n",
       "</div>"
      ],
      "text/plain": [
       "          row_id  anomaly\n",
       "0              0      0.0\n",
       "1              1      0.0\n",
       "2              2      0.0\n",
       "3              3      0.0\n",
       "4              4      0.0\n",
       "...          ...      ...\n",
       "1800562  1800562      0.0\n",
       "1800563  1800563      0.0\n",
       "1800564  1800564      0.0\n",
       "1800565  1800565      0.0\n",
       "1800566  1800566      0.0\n",
       "\n",
       "[1800567 rows x 2 columns]"
      ]
     },
     "execution_count": 24,
     "metadata": {},
     "output_type": "execute_result"
    }
   ],
   "source": [
    "ss = pd.read_csv('../input/energy-anomaly-detection/sample_submission.csv')\n",
    "ss['anomaly'] = predictions\n",
    "ss.loc[test_features['meter_reading']==1.0, 'anomaly'] = 1\n",
    "\n",
    "ss.loc[(test_features['dayofyear']==1)&((test_features['building_id']>145)|(test_features['building_id']<105)),'anomaly'] = 0\n",
    "ss.loc[test_features['dayofyear']>366.9583,'anomaly'] = 0\n",
    "\n",
    "ss.to_csv('Submission_lgb_xgb.csv', index=False)\n",
    "ss"
   ]
  },
  {
   "cell_type": "code",
   "execution_count": null,
   "metadata": {
    "papermill": {
     "duration": 0.008124,
     "end_time": "2022-08-16T05:56:47.347400",
     "exception": false,
     "start_time": "2022-08-16T05:56:47.339276",
     "status": "completed"
    },
    "tags": []
   },
   "outputs": [],
   "source": []
  }
 ],
 "metadata": {
  "kernelspec": {
   "display_name": "Python 3",
   "language": "python",
   "name": "python3"
  },
  "language_info": {
   "codemirror_mode": {
    "name": "ipython",
    "version": 3
   },
   "file_extension": ".py",
   "mimetype": "text/x-python",
   "name": "python",
   "nbconvert_exporter": "python",
   "pygments_lexer": "ipython3",
   "version": "3.7.6"
  },
  "papermill": {
   "default_parameters": {},
   "duration": 774.562431,
   "end_time": "2022-08-16T05:56:49.386966",
   "environment_variables": {},
   "exception": null,
   "input_path": "__notebook__.ipynb",
   "output_path": "__notebook__.ipynb",
   "parameters": {},
   "start_time": "2022-08-16T05:43:54.824535",
   "version": "2.3.4"
  }
 },
 "nbformat": 4,
 "nbformat_minor": 5
}
